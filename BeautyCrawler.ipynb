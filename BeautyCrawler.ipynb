{
 "cells": [
  {
   "cell_type": "code",
   "execution_count": 1,
   "metadata": {
    "collapsed": true
   },
   "outputs": [],
   "source": [
    "import os\n",
    "import requests\n",
    "from bs4 import BeautifulSoup\n",
    "from urlparse import urljoin\n",
    "\n",
    "pttUrl =\"https://www.ptt.cc/bbs/Beauty/index.html\"\n",
    "\n",
    "imageDirName = 'downloads'\n",
    "imageDir = os.path.join(os.getcwd(), imageDirName)\n",
    "if not os.path.exists(imageDir):\n",
    "    os.mkdir(imageDir)"
   ]
  },
  {
   "cell_type": "code",
   "execution_count": 2,
   "metadata": {
    "collapsed": true
   },
   "outputs": [],
   "source": [
    "def getPreviousPage(url):\n",
    "    r = requests.get(url)\n",
    "    soup = BeautifulSoup(r.text)\n",
    "    previous = soup.find(lambda tag: (tag.name == 'a' and tag.text == u'‹ 上頁'), href=True)\n",
    "    return urljoin(url, previous['href']) if previous else ''"
   ]
  },
  {
   "cell_type": "code",
   "execution_count": 3,
   "metadata": {
    "collapsed": true
   },
   "outputs": [],
   "source": [
    "def getPostUrls(pageurl):\n",
    "    r = requests.get(pageurl)\n",
    "    soup = BeautifulSoup(r.text)\n",
    "    urls = soup.select(\".r-ent .title a\")\n",
    "    return [urljoin(pageurl, url['href']) for url in urls]"
   ]
  },
  {
   "cell_type": "code",
   "execution_count": 4,
   "metadata": {
    "collapsed": true
   },
   "outputs": [],
   "source": [
    "def getImageUrls(posturl):\n",
    "    r = requests.get(posturl)\n",
    "    soup = BeautifulSoup(r.text)\n",
    "    links = soup.select(\"a\")\n",
    "    return [link['href'] for link in links if str(link['href']).endswith('.jpg')]"
   ]
  },
  {
   "cell_type": "code",
   "execution_count": 5,
   "metadata": {
    "collapsed": true
   },
   "outputs": [],
   "source": [
    "def saveImage(imageurl):\n",
    "    r = requests.get(imageurl)\n",
    "    filename = imageurl.split('/')[-1]\n",
    "    filepath = os.path.join(imageDir,filename)\n",
    "    if os.path.exists(filepath):\n",
    "        print filepath, \"already exists!\"\n",
    "    else:\n",
    "        with open(filepath,'wb') as f:\n",
    "            f.write(r.content)"
   ]
  },
  {
   "cell_type": "markdown",
   "metadata": {},
   "source": [
    "### Testing the functions"
   ]
  },
  {
   "cell_type": "code",
   "execution_count": 6,
   "metadata": {
    "collapsed": false
   },
   "outputs": [
    {
     "data": {
      "text/plain": [
       "'https://www.ptt.cc/bbs/Beauty/index1645.html'"
      ]
     },
     "execution_count": 6,
     "metadata": {},
     "output_type": "execute_result"
    }
   ],
   "source": [
    "getPreviousPage('https://www.ptt.cc/bbs/Beauty/index.html')"
   ]
  },
  {
   "cell_type": "code",
   "execution_count": 8,
   "metadata": {
    "collapsed": false
   },
   "outputs": [
    {
     "data": {
      "text/plain": [
       "['https://www.ptt.cc/bbs/Beauty/M.1447773411.A.227.html',\n",
       " 'https://www.ptt.cc/bbs/Beauty/M.1447776029.A.E64.html',\n",
       " 'https://www.ptt.cc/bbs/Beauty/M.1447776029.A.B62.html',\n",
       " 'https://www.ptt.cc/bbs/Beauty/M.1447777084.A.49F.html',\n",
       " 'https://www.ptt.cc/bbs/Beauty/M.1447778932.A.BFD.html',\n",
       " 'https://www.ptt.cc/bbs/Beauty/M.1447810767.A.16F.html',\n",
       " 'https://www.ptt.cc/bbs/Beauty/M.1447811615.A.543.html',\n",
       " 'https://www.ptt.cc/bbs/Beauty/M.1443906121.A.65B.html',\n",
       " 'https://www.ptt.cc/bbs/Beauty/M.1423752558.A.849.html',\n",
       " 'https://www.ptt.cc/bbs/Beauty/M.1430099938.A.3B7.html']"
      ]
     },
     "execution_count": 8,
     "metadata": {},
     "output_type": "execute_result"
    }
   ],
   "source": [
    "getPostUrls(pttUrl)"
   ]
  },
  {
   "cell_type": "code",
   "execution_count": 9,
   "metadata": {
    "collapsed": false
   },
   "outputs": [
    {
     "data": {
      "text/plain": [
       "['http://i.imgur.com/ukudhJr.jpg',\n",
       " 'http://i.imgur.com/t8TDDyq.jpg',\n",
       " 'http://i.imgur.com/FXfEJQ8.jpg',\n",
       " 'http://i.imgur.com/BvGyvYP.jpg',\n",
       " 'http://i.imgur.com/rzwNB9C.jpg',\n",
       " 'http://i.imgur.com/Ur4hxuW.jpg',\n",
       " 'http://i.imgur.com/lvv2CzI.jpg',\n",
       " 'http://i.imgur.com/uWsVu57.jpg',\n",
       " 'http://i.imgur.com/m0MnTpD.jpg',\n",
       " 'http://i.imgur.com/zy1LYIZ.jpg',\n",
       " 'http://i.imgur.com/yFzt98g.jpg']"
      ]
     },
     "execution_count": 9,
     "metadata": {},
     "output_type": "execute_result"
    }
   ],
   "source": [
    "getImageUrls(getPostUrls(pttUrl)[0])"
   ]
  },
  {
   "cell_type": "code",
   "execution_count": 10,
   "metadata": {
    "collapsed": false
   },
   "outputs": [
    {
     "name": "stdout",
     "output_type": "stream",
     "text": [
      "C:\\Users\\victor\\code\\BeautyCrawler\\downloads\\ukudhJr.jpg already exists!\n",
      "C:\\Users\\victor\\code\\BeautyCrawler\\downloads\\t8TDDyq.jpg already exists!\n",
      "C:\\Users\\victor\\code\\BeautyCrawler\\downloads\\FXfEJQ8.jpg already exists!\n",
      "C:\\Users\\victor\\code\\BeautyCrawler\\downloads\\BvGyvYP.jpg already exists!\n",
      "C:\\Users\\victor\\code\\BeautyCrawler\\downloads\\rzwNB9C.jpg already exists!\n",
      "C:\\Users\\victor\\code\\BeautyCrawler\\downloads\\Ur4hxuW.jpg already exists!\n",
      "C:\\Users\\victor\\code\\BeautyCrawler\\downloads\\lvv2CzI.jpg already exists!\n",
      "C:\\Users\\victor\\code\\BeautyCrawler\\downloads\\uWsVu57.jpg already exists!\n",
      "C:\\Users\\victor\\code\\BeautyCrawler\\downloads\\m0MnTpD.jpg already exists!\n",
      "C:\\Users\\victor\\code\\BeautyCrawler\\downloads\\zy1LYIZ.jpg already exists!\n",
      "C:\\Users\\victor\\code\\BeautyCrawler\\downloads\\yFzt98g.jpg already exists!\n"
     ]
    }
   ],
   "source": [
    "for imageUrl in getImageUrls(getPostUrls(pttUrl)[0]):\n",
    "    saveImage(imageUrl)"
   ]
  },
  {
   "cell_type": "code",
   "execution_count": null,
   "metadata": {
    "collapsed": true
   },
   "outputs": [],
   "source": [
    "# Download all pictures\n",
    "pageUrl = pttUrl\n",
    "while pageUrl != '':\n",
    "    for postUrl in getPostUrls(pageUrl):\n",
    "        for imageUrl in getImageUrls(postUrl):\n",
    "            saveImage(imageUrl)\n",
    "    pageUrl = getPreviousPage(pageUrl)"
   ]
  }
 ],
 "metadata": {
  "kernelspec": {
   "display_name": "Python 2",
   "language": "python",
   "name": "python2"
  },
  "language_info": {
   "codemirror_mode": {
    "name": "ipython",
    "version": 2
   },
   "file_extension": ".py",
   "mimetype": "text/x-python",
   "name": "python",
   "nbconvert_exporter": "python",
   "pygments_lexer": "ipython2",
   "version": "2.7.10"
  }
 },
 "nbformat": 4,
 "nbformat_minor": 0
}
